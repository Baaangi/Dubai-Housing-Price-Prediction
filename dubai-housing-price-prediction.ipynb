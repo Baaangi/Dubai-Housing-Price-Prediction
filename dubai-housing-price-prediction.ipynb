{
 "cells": [
  {
   "cell_type": "markdown",
   "id": "20e1842c",
   "metadata": {
    "papermill": {
     "duration": 0.004327,
     "end_time": "2025-09-25T05:07:28.114276",
     "exception": false,
     "start_time": "2025-09-25T05:07:28.109949",
     "status": "completed"
    },
    "tags": []
   },
   "source": [
    "# Dubai House Price Prediction 🏠📈\n",
    "\n",
    "**Goal:** Build a linear regression model to predict house prices in Dubai using available features (area, bedrooms, location, etc.).  \n",
    "This notebook shows data loading, exploratory data analysis (EDA), preprocessing, training a Linear Regression model, and evaluating results.\n",
    "\n",
    "\n",
    "**Notebook overview**\n",
    "1. Load dataset  \n",
    "2. Inspect Dataset Structure  \n",
    "3. Exploratory Data Analysis\n",
    "4. Creating a Basic Model \n",
    "5. Multivariate Linear Regression Model\n",
    "6. Making Predictions with the Model\n",
    "7. Conclusion"
   ]
  },
  {
   "cell_type": "code",
   "execution_count": 1,
   "id": "82ce521c",
   "metadata": {
    "execution": {
     "iopub.execute_input": "2025-09-25T05:07:28.122940Z",
     "iopub.status.busy": "2025-09-25T05:07:28.122611Z",
     "iopub.status.idle": "2025-09-25T05:07:32.203743Z",
     "shell.execute_reply": "2025-09-25T05:07:32.202719Z"
    },
    "executionInfo": {
     "elapsed": 6,
     "status": "ok",
     "timestamp": 1758422889789,
     "user": {
      "displayName": "Mohammed",
      "userId": "16646941199220649539"
     },
     "user_tz": -330
    },
    "id": "hCFW9u-_3eSF",
    "papermill": {
     "duration": 4.087578,
     "end_time": "2025-09-25T05:07:32.205634",
     "exception": false,
     "start_time": "2025-09-25T05:07:28.118056",
     "status": "completed"
    },
    "tags": []
   },
   "outputs": [],
   "source": [
    "import pandas as pd\n",
    "import matplotlib.pyplot as plt\n",
    "from sklearn.model_selection import train_test_split\n",
    "from sklearn.linear_model import LinearRegression\n",
    "\n",
    "pd.options.display.float_format = '{:.0f}'.format\n",
    "pd.set_option('display.max_rows', None)\n",
    "pd.set_option('display.width', 1000)"
   ]
  },
  {
   "cell_type": "markdown",
   "id": "70a1efbc",
   "metadata": {
    "papermill": {
     "duration": 0.003114,
     "end_time": "2025-09-25T05:07:32.212635",
     "exception": false,
     "start_time": "2025-09-25T05:07:32.209521",
     "status": "completed"
    },
    "tags": []
   },
   "source": [
    "## 1. Load dataset\n",
    "\n",
    "This dataset (properties_data.xlsx) was taken from kaggle itself.\n"
   ]
  },
  {
   "cell_type": "code",
   "execution_count": 2,
   "id": "7c154bc4",
   "metadata": {
    "execution": {
     "iopub.execute_input": "2025-09-25T05:07:32.221087Z",
     "iopub.status.busy": "2025-09-25T05:07:32.220611Z",
     "iopub.status.idle": "2025-09-25T05:07:33.879463Z",
     "shell.execute_reply": "2025-09-25T05:07:33.878503Z"
    },
    "executionInfo": {
     "elapsed": 728,
     "status": "ok",
     "timestamp": 1758422890523,
     "user": {
      "displayName": "Mohammed",
      "userId": "16646941199220649539"
     },
     "user_tz": -330
    },
    "id": "nFD-trV-7Om8",
    "papermill": {
     "duration": 1.6652,
     "end_time": "2025-09-25T05:07:33.881294",
     "exception": false,
     "start_time": "2025-09-25T05:07:32.216094",
     "status": "completed"
    },
    "tags": []
   },
   "outputs": [
    {
     "data": {
      "text/html": [
       "<div>\n",
       "<style scoped>\n",
       "    .dataframe tbody tr th:only-of-type {\n",
       "        vertical-align: middle;\n",
       "    }\n",
       "\n",
       "    .dataframe tbody tr th {\n",
       "        vertical-align: top;\n",
       "    }\n",
       "\n",
       "    .dataframe thead th {\n",
       "        text-align: right;\n",
       "    }\n",
       "</style>\n",
       "<table border=\"1\" class=\"dataframe\">\n",
       "  <thead>\n",
       "    <tr style=\"text-align: right;\">\n",
       "      <th></th>\n",
       "      <th>id</th>\n",
       "      <th>neighborhood</th>\n",
       "      <th>latitude</th>\n",
       "      <th>longitude</th>\n",
       "      <th>price</th>\n",
       "      <th>size_in_sqft</th>\n",
       "      <th>price_per_sqft</th>\n",
       "      <th>no_of_bedrooms</th>\n",
       "      <th>no_of_bathrooms</th>\n",
       "      <th>quality</th>\n",
       "      <th>...</th>\n",
       "      <th>private_pool</th>\n",
       "      <th>security</th>\n",
       "      <th>shared_gym</th>\n",
       "      <th>shared_pool</th>\n",
       "      <th>shared_spa</th>\n",
       "      <th>study</th>\n",
       "      <th>vastu_compliant</th>\n",
       "      <th>view_of_landmark</th>\n",
       "      <th>view_of_water</th>\n",
       "      <th>walk_in_closet</th>\n",
       "    </tr>\n",
       "  </thead>\n",
       "  <tbody>\n",
       "    <tr>\n",
       "      <th>0</th>\n",
       "      <td>5528049</td>\n",
       "      <td>Palm Jumeirah</td>\n",
       "      <td>25</td>\n",
       "      <td>55</td>\n",
       "      <td>2700000</td>\n",
       "      <td>1079</td>\n",
       "      <td>2502</td>\n",
       "      <td>1</td>\n",
       "      <td>2</td>\n",
       "      <td>Medium</td>\n",
       "      <td>...</td>\n",
       "      <td>False</td>\n",
       "      <td>False</td>\n",
       "      <td>True</td>\n",
       "      <td>False</td>\n",
       "      <td>False</td>\n",
       "      <td>False</td>\n",
       "      <td>False</td>\n",
       "      <td>False</td>\n",
       "      <td>True</td>\n",
       "      <td>False</td>\n",
       "    </tr>\n",
       "    <tr>\n",
       "      <th>1</th>\n",
       "      <td>6008529</td>\n",
       "      <td>Palm Jumeirah</td>\n",
       "      <td>25</td>\n",
       "      <td>55</td>\n",
       "      <td>2850000</td>\n",
       "      <td>1582</td>\n",
       "      <td>1802</td>\n",
       "      <td>2</td>\n",
       "      <td>2</td>\n",
       "      <td>Medium</td>\n",
       "      <td>...</td>\n",
       "      <td>False</td>\n",
       "      <td>False</td>\n",
       "      <td>True</td>\n",
       "      <td>True</td>\n",
       "      <td>False</td>\n",
       "      <td>False</td>\n",
       "      <td>False</td>\n",
       "      <td>False</td>\n",
       "      <td>True</td>\n",
       "      <td>False</td>\n",
       "    </tr>\n",
       "    <tr>\n",
       "      <th>2</th>\n",
       "      <td>6034542</td>\n",
       "      <td>Jumeirah Lake Towers</td>\n",
       "      <td>25</td>\n",
       "      <td>55</td>\n",
       "      <td>1150000</td>\n",
       "      <td>1951</td>\n",
       "      <td>589</td>\n",
       "      <td>3</td>\n",
       "      <td>5</td>\n",
       "      <td>Medium</td>\n",
       "      <td>...</td>\n",
       "      <td>False</td>\n",
       "      <td>True</td>\n",
       "      <td>True</td>\n",
       "      <td>True</td>\n",
       "      <td>False</td>\n",
       "      <td>False</td>\n",
       "      <td>False</td>\n",
       "      <td>True</td>\n",
       "      <td>True</td>\n",
       "      <td>True</td>\n",
       "    </tr>\n",
       "    <tr>\n",
       "      <th>3</th>\n",
       "      <td>6326063</td>\n",
       "      <td>Culture Village</td>\n",
       "      <td>25</td>\n",
       "      <td>55</td>\n",
       "      <td>2850000</td>\n",
       "      <td>2020</td>\n",
       "      <td>1411</td>\n",
       "      <td>2</td>\n",
       "      <td>3</td>\n",
       "      <td>Low</td>\n",
       "      <td>...</td>\n",
       "      <td>False</td>\n",
       "      <td>False</td>\n",
       "      <td>False</td>\n",
       "      <td>False</td>\n",
       "      <td>False</td>\n",
       "      <td>False</td>\n",
       "      <td>False</td>\n",
       "      <td>False</td>\n",
       "      <td>False</td>\n",
       "      <td>False</td>\n",
       "    </tr>\n",
       "    <tr>\n",
       "      <th>4</th>\n",
       "      <td>6356778</td>\n",
       "      <td>Palm Jumeirah</td>\n",
       "      <td>25</td>\n",
       "      <td>55</td>\n",
       "      <td>1729200</td>\n",
       "      <td>507</td>\n",
       "      <td>3411</td>\n",
       "      <td>0</td>\n",
       "      <td>1</td>\n",
       "      <td>Medium</td>\n",
       "      <td>...</td>\n",
       "      <td>False</td>\n",
       "      <td>True</td>\n",
       "      <td>True</td>\n",
       "      <td>True</td>\n",
       "      <td>True</td>\n",
       "      <td>False</td>\n",
       "      <td>False</td>\n",
       "      <td>True</td>\n",
       "      <td>True</td>\n",
       "      <td>False</td>\n",
       "    </tr>\n",
       "  </tbody>\n",
       "</table>\n",
       "<p>5 rows × 38 columns</p>\n",
       "</div>"
      ],
      "text/plain": [
       "        id          neighborhood  latitude  longitude    price  size_in_sqft  price_per_sqft  no_of_bedrooms  no_of_bathrooms quality  ...  private_pool  security  shared_gym  shared_pool  shared_spa  study  vastu_compliant  view_of_landmark  view_of_water  walk_in_closet\n",
       "0  5528049         Palm Jumeirah        25         55  2700000          1079            2502               1                2  Medium  ...         False     False        True        False       False  False            False             False           True           False\n",
       "1  6008529         Palm Jumeirah        25         55  2850000          1582            1802               2                2  Medium  ...         False     False        True         True       False  False            False             False           True           False\n",
       "2  6034542  Jumeirah Lake Towers        25         55  1150000          1951             589               3                5  Medium  ...         False      True        True         True       False  False            False              True           True            True\n",
       "3  6326063       Culture Village        25         55  2850000          2020            1411               2                3     Low  ...         False     False       False        False       False  False            False             False          False           False\n",
       "4  6356778         Palm Jumeirah        25         55  1729200           507            3411               0                1  Medium  ...         False      True        True         True        True  False            False              True           True           False\n",
       "\n",
       "[5 rows x 38 columns]"
      ]
     },
     "execution_count": 2,
     "metadata": {},
     "output_type": "execute_result"
    }
   ],
   "source": [
    "housing_data = pd.read_excel(\"/kaggle/input/properties-data/properties_data.xlsx\")\n",
    "\n",
    "#quick dataset preview\n",
    "housing_data.head()"
   ]
  },
  {
   "cell_type": "markdown",
   "id": "296d5f09",
   "metadata": {
    "papermill": {
     "duration": 0.003457,
     "end_time": "2025-09-25T05:07:33.889009",
     "exception": false,
     "start_time": "2025-09-25T05:07:33.885552",
     "status": "completed"
    },
    "tags": []
   },
   "source": [
    "## 2. Inspect Dataset Structure\n",
    "using .info() to get datatypes and not-null counts of columns.\n",
    "using .describe() to get summary stats of dataset."
   ]
  },
  {
   "cell_type": "code",
   "execution_count": 3,
   "id": "a6096d1a",
   "metadata": {
    "execution": {
     "iopub.execute_input": "2025-09-25T05:07:33.898188Z",
     "iopub.status.busy": "2025-09-25T05:07:33.897667Z",
     "iopub.status.idle": "2025-09-25T05:07:33.947060Z",
     "shell.execute_reply": "2025-09-25T05:07:33.945954Z"
    },
    "executionInfo": {
     "elapsed": 21,
     "status": "ok",
     "timestamp": 1758422890576,
     "user": {
      "displayName": "Mohammed",
      "userId": "16646941199220649539"
     },
     "user_tz": -330
    },
    "id": "LHswyRRL7RrU",
    "outputId": "185a1d3a-558f-4504-8f42-2fd7106397fd",
    "papermill": {
     "duration": 0.056102,
     "end_time": "2025-09-25T05:07:33.948849",
     "exception": false,
     "start_time": "2025-09-25T05:07:33.892747",
     "status": "completed"
    },
    "tags": []
   },
   "outputs": [
    {
     "name": "stdout",
     "output_type": "stream",
     "text": [
      "<class 'pandas.core.frame.DataFrame'>\n",
      "RangeIndex: 1905 entries, 0 to 1904\n",
      "Data columns (total 38 columns):\n",
      " #   Column               Non-Null Count  Dtype  \n",
      "---  ------               --------------  -----  \n",
      " 0   id                   1905 non-null   int64  \n",
      " 1   neighborhood         1905 non-null   object \n",
      " 2   latitude             1905 non-null   float64\n",
      " 3   longitude            1905 non-null   float64\n",
      " 4   price                1905 non-null   int64  \n",
      " 5   size_in_sqft         1905 non-null   int64  \n",
      " 6   price_per_sqft       1905 non-null   float64\n",
      " 7   no_of_bedrooms       1905 non-null   int64  \n",
      " 8   no_of_bathrooms      1905 non-null   int64  \n",
      " 9   quality              1905 non-null   object \n",
      " 10  maid_room            1905 non-null   bool   \n",
      " 11  unfurnished          1905 non-null   bool   \n",
      " 12  balcony              1905 non-null   bool   \n",
      " 13  barbecue_area        1905 non-null   bool   \n",
      " 14  built_in_wardrobes   1905 non-null   bool   \n",
      " 15  central_ac           1905 non-null   bool   \n",
      " 16  childrens_play_area  1905 non-null   bool   \n",
      " 17  childrens_pool       1905 non-null   bool   \n",
      " 18  concierge            1905 non-null   bool   \n",
      " 19  covered_parking      1905 non-null   bool   \n",
      " 20  kitchen_appliances   1905 non-null   bool   \n",
      " 21  lobby_in_building    1905 non-null   bool   \n",
      " 22  maid_service         1905 non-null   bool   \n",
      " 23  networked            1905 non-null   bool   \n",
      " 24  pets_allowed         1905 non-null   bool   \n",
      " 25  private_garden       1905 non-null   bool   \n",
      " 26  private_gym          1905 non-null   bool   \n",
      " 27  private_jacuzzi      1905 non-null   bool   \n",
      " 28  private_pool         1905 non-null   bool   \n",
      " 29  security             1905 non-null   bool   \n",
      " 30  shared_gym           1905 non-null   bool   \n",
      " 31  shared_pool          1905 non-null   bool   \n",
      " 32  shared_spa           1905 non-null   bool   \n",
      " 33  study                1905 non-null   bool   \n",
      " 34  vastu_compliant      1905 non-null   bool   \n",
      " 35  view_of_landmark     1905 non-null   bool   \n",
      " 36  view_of_water        1905 non-null   bool   \n",
      " 37  walk_in_closet       1905 non-null   bool   \n",
      "dtypes: bool(28), float64(3), int64(5), object(2)\n",
      "memory usage: 201.0+ KB\n"
     ]
    },
    {
     "data": {
      "text/html": [
       "<div>\n",
       "<style scoped>\n",
       "    .dataframe tbody tr th:only-of-type {\n",
       "        vertical-align: middle;\n",
       "    }\n",
       "\n",
       "    .dataframe tbody tr th {\n",
       "        vertical-align: top;\n",
       "    }\n",
       "\n",
       "    .dataframe thead th {\n",
       "        text-align: right;\n",
       "    }\n",
       "</style>\n",
       "<table border=\"1\" class=\"dataframe\">\n",
       "  <thead>\n",
       "    <tr style=\"text-align: right;\">\n",
       "      <th></th>\n",
       "      <th>id</th>\n",
       "      <th>latitude</th>\n",
       "      <th>longitude</th>\n",
       "      <th>price</th>\n",
       "      <th>size_in_sqft</th>\n",
       "      <th>price_per_sqft</th>\n",
       "      <th>no_of_bedrooms</th>\n",
       "      <th>no_of_bathrooms</th>\n",
       "    </tr>\n",
       "  </thead>\n",
       "  <tbody>\n",
       "    <tr>\n",
       "      <th>count</th>\n",
       "      <td>1905</td>\n",
       "      <td>1905</td>\n",
       "      <td>1905</td>\n",
       "      <td>1905</td>\n",
       "      <td>1905</td>\n",
       "      <td>1905</td>\n",
       "      <td>1905</td>\n",
       "      <td>1905</td>\n",
       "    </tr>\n",
       "    <tr>\n",
       "      <th>mean</th>\n",
       "      <td>7573308</td>\n",
       "      <td>25</td>\n",
       "      <td>55</td>\n",
       "      <td>2085830</td>\n",
       "      <td>1417</td>\n",
       "      <td>1327</td>\n",
       "      <td>2</td>\n",
       "      <td>3</td>\n",
       "    </tr>\n",
       "    <tr>\n",
       "      <th>std</th>\n",
       "      <td>192525</td>\n",
       "      <td>0</td>\n",
       "      <td>0</td>\n",
       "      <td>2913200</td>\n",
       "      <td>891</td>\n",
       "      <td>668</td>\n",
       "      <td>1</td>\n",
       "      <td>1</td>\n",
       "    </tr>\n",
       "    <tr>\n",
       "      <th>min</th>\n",
       "      <td>5528049</td>\n",
       "      <td>25</td>\n",
       "      <td>55</td>\n",
       "      <td>220000</td>\n",
       "      <td>294</td>\n",
       "      <td>362</td>\n",
       "      <td>0</td>\n",
       "      <td>1</td>\n",
       "    </tr>\n",
       "    <tr>\n",
       "      <th>25%</th>\n",
       "      <td>7560167</td>\n",
       "      <td>25</td>\n",
       "      <td>55</td>\n",
       "      <td>890000</td>\n",
       "      <td>840</td>\n",
       "      <td>871</td>\n",
       "      <td>1</td>\n",
       "      <td>2</td>\n",
       "    </tr>\n",
       "    <tr>\n",
       "      <th>50%</th>\n",
       "      <td>7631829</td>\n",
       "      <td>25</td>\n",
       "      <td>55</td>\n",
       "      <td>1400000</td>\n",
       "      <td>1271</td>\n",
       "      <td>1170</td>\n",
       "      <td>2</td>\n",
       "      <td>2</td>\n",
       "    </tr>\n",
       "    <tr>\n",
       "      <th>75%</th>\n",
       "      <td>7670328</td>\n",
       "      <td>25</td>\n",
       "      <td>55</td>\n",
       "      <td>2200000</td>\n",
       "      <td>1703</td>\n",
       "      <td>1622</td>\n",
       "      <td>2</td>\n",
       "      <td>3</td>\n",
       "    </tr>\n",
       "    <tr>\n",
       "      <th>max</th>\n",
       "      <td>7706643</td>\n",
       "      <td>25</td>\n",
       "      <td>55</td>\n",
       "      <td>35000000</td>\n",
       "      <td>9576</td>\n",
       "      <td>4806</td>\n",
       "      <td>5</td>\n",
       "      <td>6</td>\n",
       "    </tr>\n",
       "  </tbody>\n",
       "</table>\n",
       "</div>"
      ],
      "text/plain": [
       "           id  latitude  longitude    price  size_in_sqft  price_per_sqft  no_of_bedrooms  no_of_bathrooms\n",
       "count    1905      1905       1905     1905          1905            1905            1905             1905\n",
       "mean  7573308        25         55  2085830          1417            1327               2                3\n",
       "std    192525         0          0  2913200           891             668               1                1\n",
       "min   5528049        25         55   220000           294             362               0                1\n",
       "25%   7560167        25         55   890000           840             871               1                2\n",
       "50%   7631829        25         55  1400000          1271            1170               2                2\n",
       "75%   7670328        25         55  2200000          1703            1622               2                3\n",
       "max   7706643        25         55 35000000          9576            4806               5                6"
      ]
     },
     "execution_count": 3,
     "metadata": {},
     "output_type": "execute_result"
    }
   ],
   "source": [
    "housing_data.info()\n",
    "housing_data.describe()"
   ]
  },
  {
   "cell_type": "markdown",
   "id": "a11ffcd0",
   "metadata": {
    "papermill": {
     "duration": 0.004183,
     "end_time": "2025-09-25T05:07:33.957438",
     "exception": false,
     "start_time": "2025-09-25T05:07:33.953255",
     "status": "completed"
    },
    "tags": []
   },
   "source": [
    "## 3. Exploratory Data Analysis."
   ]
  },
  {
   "cell_type": "code",
   "execution_count": 4,
   "id": "58361cb6",
   "metadata": {
    "execution": {
     "iopub.execute_input": "2025-09-25T05:07:33.966871Z",
     "iopub.status.busy": "2025-09-25T05:07:33.966483Z",
     "iopub.status.idle": "2025-09-25T05:07:34.338442Z",
     "shell.execute_reply": "2025-09-25T05:07:34.337453Z"
    },
    "executionInfo": {
     "elapsed": 156,
     "status": "ok",
     "timestamp": 1758422890736,
     "user": {
      "displayName": "Mohammed",
      "userId": "16646941199220649539"
     },
     "user_tz": -330
    },
    "id": "ucNXE80DAihT",
    "outputId": "d89da471-c42d-46c5-863c-b0ac4f6c57c5",
    "papermill": {
     "duration": 0.378901,
     "end_time": "2025-09-25T05:07:34.340214",
     "exception": false,
     "start_time": "2025-09-25T05:07:33.961313",
     "status": "completed"
    },
    "tags": []
   },
   "outputs": [
    {
     "data": {
      "image/png": "[encoded data removed]",
      "text/plain": [
       "<Figure size 640x480 with 1 Axes>"
      ]
     },
     "metadata": {},
     "output_type": "display_data"
    }
   ],
   "source": [
    "#plotting size vs price chart to see correlation.\n",
    "\n",
    "plt.scatter(housing_data['size_in_sqft'], housing_data['price'])\n",
    "\n",
    "plt.xlabel('size_in_sqft')\n",
    "plt.ylabel('price')\n",
    "plt.title('Area vs Price')\n",
    "\n",
    "plt.show()"
   ]
  },
  {
   "cell_type": "markdown",
   "id": "2c81fe53",
   "metadata": {
    "papermill": {
     "duration": 0.004244,
     "end_time": "2025-09-25T05:07:34.349548",
     "exception": false,
     "start_time": "2025-09-25T05:07:34.345304",
     "status": "completed"
    },
    "tags": []
   },
   "source": [
    "## 4. Creating a Basic Model\n",
    "Implementing a basic single variable Linear Regression Model using `size_in_sqft` and `price`"
   ]
  },
  {
   "cell_type": "code",
   "execution_count": 5,
   "id": "9645dcc6",
   "metadata": {
    "execution": {
     "iopub.execute_input": "2025-09-25T05:07:34.360864Z",
     "iopub.status.busy": "2025-09-25T05:07:34.360522Z",
     "iopub.status.idle": "2025-09-25T05:07:34.605584Z",
     "shell.execute_reply": "2025-09-25T05:07:34.604620Z"
    },
    "executionInfo": {
     "elapsed": 157,
     "status": "ok",
     "timestamp": 1758422890896,
     "user": {
      "displayName": "Mohammed",
      "userId": "16646941199220649539"
     },
     "user_tz": -330
    },
    "id": "lE7BJ9RpVMhJ",
    "outputId": "3d12e2bf-baa3-4a09-bd5b-7709da492f98",
    "papermill": {
     "duration": 0.252613,
     "end_time": "2025-09-25T05:07:34.607153",
     "exception": false,
     "start_time": "2025-09-25T05:07:34.354540",
     "status": "completed"
    },
    "tags": []
   },
   "outputs": [
    {
     "name": "stdout",
     "output_type": "stream",
     "text": [
      "0.6545696546770485\n"
     ]
    },
    {
     "data": {
      "image/png": "[encoded data removed]",
      "text/plain": [
       "<Figure size 640x480 with 1 Axes>"
      ]
     },
     "metadata": {},
     "output_type": "display_data"
    }
   ],
   "source": [
    "X = housing_data[['size_in_sqft']]\n",
    "y = housing_data[['price']]\n",
    "\n",
    "X_train, X_test, y_train, y_test = train_test_split(X, y, test_size=0.2, random_state=42)\n",
    "\n",
    "model1 = LinearRegression()\n",
    "model1.fit(X_train, y_train)\n",
    "\n",
    "y_pred = model1.predict(X_test)\n",
    "\n",
    "plt.scatter(X_test, y_test, color='blue')\n",
    "plt.plot(X_test, y_pred, color='red')\n",
    "\n",
    "plt.xlabel('size_in_sqft')\n",
    "plt.ylabel('price')\n",
    "plt.title('Area vs Price (actual and pred)')\n",
    "plt.legend()\n",
    "\n",
    "#R-squared model score\n",
    "print(model1.score(X_test, y_test))\n",
    "\n",
    "plt.show()"
   ]
  },
  {
   "cell_type": "markdown",
   "id": "b43dc1ce",
   "metadata": {
    "papermill": {
     "duration": 0.004879,
     "end_time": "2025-09-25T05:07:34.618672",
     "exception": false,
     "start_time": "2025-09-25T05:07:34.613793",
     "status": "completed"
    },
    "tags": []
   },
   "source": [
    "## 5. Multivariate Linear Regression Model\n",
    "Model using variables that have high correlation to `price`"
   ]
  },
  {
   "cell_type": "code",
   "execution_count": 6,
   "id": "37f0ec79",
   "metadata": {
    "execution": {
     "iopub.execute_input": "2025-09-25T05:07:34.630740Z",
     "iopub.status.busy": "2025-09-25T05:07:34.630175Z",
     "iopub.status.idle": "2025-09-25T05:07:34.871511Z",
     "shell.execute_reply": "2025-09-25T05:07:34.870527Z"
    },
    "executionInfo": {
     "elapsed": 510,
     "status": "ok",
     "timestamp": 1758423240258,
     "user": {
      "displayName": "Mohammed",
      "userId": "16646941199220649539"
     },
     "user_tz": -330
    },
    "id": "KDZMQop97bSc",
    "outputId": "73c94373-a70d-4c21-b00f-8e909a17c087",
    "papermill": {
     "duration": 0.24928,
     "end_time": "2025-09-25T05:07:34.873178",
     "exception": false,
     "start_time": "2025-09-25T05:07:34.623898",
     "status": "completed"
    },
    "tags": []
   },
   "outputs": [
    {
     "name": "stdout",
     "output_type": "stream",
     "text": [
      "0.7222204741106366\n"
     ]
    },
    {
     "data": {
      "image/png": "[encoded data removed]",
      "text/plain": [
       "<Figure size 640x480 with 1 Axes>"
      ]
     },
     "metadata": {},
     "output_type": "display_data"
    }
   ],
   "source": [
    "#encoding categorical 'quality' column\n",
    "housing_data_encoded = pd.get_dummies(housing_data)\n",
    "\n",
    "features = ['size_in_sqft', 'no_of_bedrooms', 'no_of_bathrooms', 'latitude', 'longitude', 'quality_High']\n",
    "X = housing_data_encoded[features]\n",
    "y = housing_data_encoded['price']\n",
    "\n",
    "X_train, X_test, y_train, y_test = train_test_split(X, y, test_size=0.2, random_state=42)\n",
    "\n",
    "model2 = LinearRegression()\n",
    "model2.fit(X_train, y_train)\n",
    "\n",
    "y_pred = model2.predict(X_test)\n",
    "\n",
    "#R-squared model score\n",
    "print(model2.score(X_test, y_test))\n",
    "\n",
    "plt.scatter(y_test, y_pred)\n",
    "plt.xlabel(\"Actual Prices ($)\")\n",
    "plt.ylabel(\"Predicted Prices ($)\")\n",
    "plt.title(\"Actual vs. Predicted Prices\")\n",
    "plt.plot([y_test.min(), y_test.max()], [y_test.min(), y_test.max()], color='red')\n",
    "plt.show()"
   ]
  },
  {
   "cell_type": "markdown",
   "id": "966f244a",
   "metadata": {
    "papermill": {
     "duration": 0.005989,
     "end_time": "2025-09-25T05:07:34.885631",
     "exception": false,
     "start_time": "2025-09-25T05:07:34.879642",
     "status": "completed"
    },
    "tags": []
   },
   "source": [
    "## 6. Making Predictions with the Model\n",
    "Now that our linear regression model is trained, we can use it to predict the price of a new house.  \n",
    "We create a small `DataFrme` that represents the features of a house (such as size, bedrooms, bathrooms, location, and quality).  \n",
    "The model then takes these features as input and outputs the estimated house price."
   ]
  },
  {
   "cell_type": "code",
   "execution_count": 7,
   "id": "3baaf598",
   "metadata": {
    "execution": {
     "iopub.execute_input": "2025-09-25T05:07:34.898928Z",
     "iopub.status.busy": "2025-09-25T05:07:34.898559Z",
     "iopub.status.idle": "2025-09-25T05:07:34.910920Z",
     "shell.execute_reply": "2025-09-25T05:07:34.909312Z"
    },
    "executionInfo": {
     "elapsed": 8,
     "status": "ok",
     "timestamp": 1758422890968,
     "user": {
      "displayName": "Mohammed",
      "userId": "16646941199220649539"
     },
     "user_tz": -330
    },
    "id": "nxwAXATm-RGs",
    "outputId": "98a5e61b-e8c0-4ba9-c8c8-01d1e87e42d8",
    "papermill": {
     "duration": 0.021921,
     "end_time": "2025-09-25T05:07:34.913481",
     "exception": false,
     "start_time": "2025-09-25T05:07:34.891560",
     "status": "completed"
    },
    "tags": []
   },
   "outputs": [
    {
     "name": "stdout",
     "output_type": "stream",
     "text": [
      "Predicted price: AED 3,924,369.12\n"
     ]
    }
   ],
   "source": [
    "new_house = pd.DataFrame({\n",
    "    'size_in_sqft': [2000],\n",
    "    'no_of_bedrooms': [3],\n",
    "    'no_of_bathrooms': [2],\n",
    "    'latitude': [25.2],\n",
    "    'longitude': [55.2],\n",
    "    'quality_High': [1]\n",
    "})\n",
    "\n",
    "predicted_price = model2.predict(new_house)\n",
    "\n",
    "price_value = predicted_price[0]\n",
    "price = f\"AED {price_value:,.2f}\"\n",
    "\n",
    "print('Predicted price:', price)"
   ]
  },
  {
   "cell_type": "markdown",
   "id": "3cab661b",
   "metadata": {
    "papermill": {
     "duration": 0.006584,
     "end_time": "2025-09-25T05:07:34.929109",
     "exception": false,
     "start_time": "2025-09-25T05:07:34.922525",
     "status": "completed"
    },
    "tags": []
   },
   "source": [
    "## 7. Conclusion\n",
    "\n",
    "- **Model used:** Linear Regression\n",
    "- **Performance:** R² = Model1 = `0.65` Model2 = `0.72`  \n",
    "- **Key findings:** e.g., feature X had strong positive impact; area correlated with price but there's variance due to location/amenities.  \n",
    "- **Limitations:** skewed target, missing features (e.g., year built, proximity to metro), potential multicollinearity.  \n",
    "- **Next steps:** try regularized models (Ridge/Lasso), tree-based models (Random Forest, XGBoost), feature engineering (interaction terms), and cross-validation to get more robust estimates.\n"
   ]
  }
 ],
 "metadata": {
  "colab": {
   "authorship_tag": "ABX9TyNcWXD8RIM68W1FGikXVLO0",
   "provenance": []
  },
  "kaggle": {
   "accelerator": "none",
   "dataSources": [
    {
     "datasetId": 8318224,
     "sourceId": 13130698,
     "sourceType": "datasetVersion"
    }
   ],
   "dockerImageVersionId": 31089,
   "isGpuEnabled": false,
   "isInternetEnabled": true,
   "language": "python",
   "sourceType": "notebook"
  },
  "kernelspec": {
   "display_name": "Python 3",
   "language": "python",
   "name": "python3"
  },
  "language_info": {
   "codemirror_mode": {
    "name": "ipython",
    "version": 3
   },
   "file_extension": ".py",
   "mimetype": "text/x-python",
   "name": "python",
   "nbconvert_exporter": "python",
   "pygments_lexer": "ipython3",
   "version": "3.11.13"
  },
  "papermill": {
   "default_parameters": {},
   "duration": 13.685232,
   "end_time": "2025-09-25T05:07:35.762034",
   "environment_variables": {},
   "exception": null,
   "input_path": "__notebook__.ipynb",
   "output_path": "__notebook__.ipynb",
   "parameters": {},
   "start_time": "2025-09-25T05:07:22.076802",
   "version": "2.6.0"
  }
 },
 "nbformat": 4,
 "nbformat_minor": 5
}
